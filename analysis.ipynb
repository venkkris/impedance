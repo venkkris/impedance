{
 "cells": [
  {
   "cell_type": "code",
   "execution_count": null,
   "metadata": {},
   "outputs": [],
   "source": [
    "# Import modules\n",
    "import glob\n",
    "import numpy as np\n",
    "from os import makedirs\n",
    "from pandas import DataFrame\n",
    "import matplotlib.pyplot as plt\n",
    "from impedance import preprocessing\n",
    "from galvani.BioLogic import MPRfile\n",
    "from impedance.models.circuits import CustomCircuit, Randles\n",
    "from impedance.visualization import plot_nyquist, plot_bode, plot_residuals"
   ]
  },
  {
   "cell_type": "code",
   "execution_count": null,
   "metadata": {},
   "outputs": [],
   "source": [
    "# Convert data from mpr file into csv\n",
    "filename = glob.glob('*.mpr')[0]\n",
    "data = DataFrame(MPRfile(filename).data)\n",
    "freq = data['freq/Hz']\n",
    "real_Z = data['Re(Z)/Ohm']\n",
    "imag_Z = -1*data['-Im(Z)/Ohm']\n",
    "np.savetxt('data.csv', np.column_stack((freq, real_Z, imag_Z)), delimiter=',')"
   ]
  },
  {
   "cell_type": "code",
   "execution_count": null,
   "metadata": {},
   "outputs": [],
   "source": [
    "# Read from csv file and pre-process\n",
    "frequencies, Z = preprocessing.readCSV('data.csv')\n",
    "frequencies, Z = preprocessing.ignoreBelowX(frequencies, Z)\n",
    "# mask = frequencies <= 1e5\n",
    "# frequencies = frequencies[mask]\n",
    "# Z = Z[mask]"
   ]
  },
  {
   "cell_type": "code",
   "execution_count": null,
   "metadata": {},
   "outputs": [],
   "source": [
    "# Define circuit with iniital values\n",
    "foldername = 'C1'\n",
    "circuit = CustomCircuit('R0-p(R1,C1,CPE0)-p(R2,C2)', initial_guess=[18, 500,0.0001,20,1.0, 100,0.001])\n",
    "\n",
    "# circuit = CustomCircuit('R0-p(R1,C1,G0)-p(R2,C2)', initial_guess=[18, 500,0.0001,20,1, 100,0.001])\n",
    "# circuit = Randles(initial_guess=[0.1, 10, .1, .9, .001, 200], CPE=True)\n",
    "\n",
    "\n",
    "\n",
    "\n",
    "# Fit to circuit and write outputs\n",
    "circuit.fit(frequencies, Z, global_opt=False)\n",
    "print(circuit)\n",
    "makedirs(foldername, exist_ok=True)\n",
    "circuit.save(foldername+'/circuit.json')\n",
    "file = open(foldername+'/out.txt', 'w')\n",
    "file.write(str(circuit))\n",
    "file.close()\n",
    "\n",
    "\n",
    "# Compute residuals\n",
    "res_real = (Z - circuit.predict(frequencies)).real/np.abs(Z)\n",
    "res_imag = (Z - circuit.predict(frequencies)).imag/np.abs(Z)\n",
    "\n",
    "\n",
    "# Plot Nyquist\n",
    "fig, ax = plt.subplots(tight_layout=True)\n",
    "plot_nyquist(ax, Z, fmt='o', units='\\Omega', label='Data')\n",
    "plot_nyquist(ax, circuit.predict(frequencies), fmt='-', units='\\Omega', label='Fit')\n",
    "plt.legend()\n",
    "plt.title(filename)\n",
    "plt.savefig(foldername+'/nyquist.png')\n",
    "plt.close()\n",
    "\n",
    "\n",
    "# Plot Bode\n",
    "fig, ax = plt.subplots(2, 1, tight_layout=True)\n",
    "plot_bode(ax, frequencies, Z, fmt='o', units='\\Omega', label='Data')\n",
    "plot_bode(ax, frequencies, circuit.predict(frequencies), fmt='-', units='\\Omega', label='Fit')\n",
    "ax[0].set_title(filename)\n",
    "ax[0].legend()\n",
    "ax[1].legend()\n",
    "plt.savefig(foldername+'/bode.png')\n",
    "plt.close()\n",
    "\n",
    "\n",
    "# Plot residuals\n",
    "fig, ax = plt.subplots(tight_layout=True)\n",
    "plot_residuals(ax, frequencies, res_real, res_imag, y_limits=(-10,10))\n",
    "plt.savefig(foldername+'/residuals.png')\n",
    "plt.close()"
   ]
  }
 ],
 "metadata": {
  "kernelspec": {
   "display_name": "Python 3.7.11 ('impedance')",
   "language": "python",
   "name": "python3"
  },
  "language_info": {
   "name": "python",
   "version": "3.7.11"
  },
  "orig_nbformat": 4,
  "vscode": {
   "interpreter": {
    "hash": "31444f3e76b834f315e2a594b886c163f56a79499c9d07f6432297f752259b83"
   }
  }
 },
 "nbformat": 4,
 "nbformat_minor": 2
}
