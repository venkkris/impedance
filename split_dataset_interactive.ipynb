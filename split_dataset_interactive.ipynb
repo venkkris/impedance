{
 "cells": [
  {
   "cell_type": "code",
   "execution_count": 47,
   "metadata": {},
   "outputs": [
    {
     "name": "stdout",
     "output_type": "stream",
     "text": [
      "Found 2 files\n",
      "220224-PanasonicBR2032-1mAh-C100-no_rest-EIS-10mV_PEIS_C07.mpr\n",
      "220224-PanasonicBR2032-1mAh-C100-no_rest-EIS-10mV_GCPL_C07.mpr\n",
      "\n",
      "Filename chosen: 220224-PanasonicBR2032-1mAh-C100-no_rest-EIS-10mV_PEIS_C07.mpr\n"
     ]
    }
   ],
   "source": [
    "if True:\n",
    "    # Import modules\n",
    "    from glob import glob\n",
    "    from os import makedirs\n",
    "    import numpy as np\n",
    "    import matplotlib.pyplot as plt\n",
    "    from pandas import DataFrame\n",
    "    from impedance.preprocessing import readCSV\n",
    "    from galvani.BioLogic import MPRfile\n",
    "    import ipywidgets\n",
    "    from IPython.display import display\n",
    "    from impedance.models.circuits import CustomCircuit\n",
    "    from impedance.visualization import plot_nyquist, plot_bode, plot_residuals\n",
    "\n",
    "\n",
    "freq_order = 'descending'\n",
    "\n",
    "# Convert data from mpr file into csv\n",
    "filenames = glob('*.mpr')\n",
    "print('Found {} files'.format(len(filenames)))\n",
    "for filename in filenames:\n",
    "    print(filename)\n",
    "filename = filenames[0]\n",
    "print('\\nFilename chosen: {}'.format(filename))"
   ]
  },
  {
   "cell_type": "code",
   "execution_count": 17,
   "metadata": {},
   "outputs": [],
   "source": [
    "data = DataFrame(MPRfile(filename).data)\n",
    "freq = data['freq/Hz']\n",
    "real_Z = data['Re(Z)/Ohm']\n",
    "imag_Z = -1*data['-Im(Z)/Ohm']\n",
    "np.savetxt('data.csv', np.column_stack((freq, real_Z, imag_Z)), delimiter=',')\n",
    "\n",
    "# Read from csv file and pre-process\n",
    "freq, Z = readCSV('data.csv')"
   ]
  },
  {
   "cell_type": "code",
   "execution_count": null,
   "metadata": {},
   "outputs": [],
   "source": [
    "# Split the data into individual cycles based on non-monotonous change in frequency\n",
    "# Find index where adjacent frequencies are ascending/descending\n",
    "if freq_order == 'ascending':\n",
    "    indices = np.where(np.diff(freq) < 0)\n",
    "elif freq_order == 'descending':\n",
    "    indices = np.where(np.diff(freq) > 0)\n",
    "\n",
    "makedirs('split', exist_ok=True)\n",
    "\n",
    "for i in range(len(indices[0])):\n",
    "    # print('Cycle: {}'.format(i))\n",
    "    if i == 0:\n",
    "        start = 0\n",
    "        end = indices[0][i]\n",
    "    else:\n",
    "        start = indices[0][i-1] + 1\n",
    "        end = indices[0][i]\n",
    "    # Save the data\n",
    "    makedirs('split/cycle_{}'.format(i), exist_ok=True)\n",
    "    np.savetxt('split/cycle_{}/data.csv'.format(i), \n",
    "    np.column_stack((freq[start:end], \n",
    "    Z[start:end].real, \n",
    "    Z[start:end].imag)), \n",
    "    delimiter=',')"
   ]
  },
  {
   "cell_type": "code",
   "execution_count": 50,
   "metadata": {},
   "outputs": [
    {
     "data": {
      "application/vnd.jupyter.widget-view+json": {
       "model_id": "780ea1c4b7744aad8459f8b5ee9dc742",
       "version_major": 2,
       "version_minor": 0
      },
      "text/plain": [
       "interactive(children=(IntSlider(value=1, description='Step', max=199), IntRangeSlider(value=(0, 200), descript…"
      ]
     },
     "metadata": {},
     "output_type": "display_data"
    },
    {
     "data": {
      "text/plain": [
       "<function __main__.plot_data(index, xlim, ylim)>"
      ]
     },
     "execution_count": 50,
     "metadata": {},
     "output_type": "execute_result"
    }
   ],
   "source": [
    "index = ipywidgets.IntSlider(value=1, description='Step',\n",
    "min=0, max=199, step=1)\n",
    "xlim = ipywidgets.IntRangeSlider(value=[0,200], description='xlim', \n",
    "min=0, max=1500, step=10)\n",
    "ylim = ipywidgets.IntRangeSlider(value=[0,200], description='ylim', \n",
    "min=0, max=1500, step=10, orientation='horizontal')\n",
    "\n",
    "\n",
    "def plot_data(index, xlim, ylim):\n",
    "    plt.ioff()\n",
    "    fig, ax = plt.subplots(tight_layout=True, facecolor='w')\n",
    "\n",
    "    freq, Z = readCSV('split/cycle_{}/data.csv'.format(index))\n",
    "    l = plot_nyquist(ax, Z, fmt='o', color='blue', units='\\Omega')\n",
    "    ax.set_xlim(xlim)\n",
    "    ax.set_ylim(ylim)\n",
    "    plt.show()\n",
    "\n",
    "ipywidgets.interact(plot_data, index=index, xlim=xlim, ylim=ylim, Display=False)\n"
   ]
  }
 ],
 "metadata": {
  "kernelspec": {
   "display_name": "Python 3.7.11 ('impedance')",
   "language": "python",
   "name": "python3"
  },
  "language_info": {
   "codemirror_mode": {
    "name": "ipython",
    "version": 3
   },
   "file_extension": ".py",
   "mimetype": "text/x-python",
   "name": "python",
   "nbconvert_exporter": "python",
   "pygments_lexer": "ipython3",
   "version": "3.7.11"
  },
  "orig_nbformat": 4,
  "vscode": {
   "interpreter": {
    "hash": "31444f3e76b834f315e2a594b886c163f56a79499c9d07f6432297f752259b83"
   }
  }
 },
 "nbformat": 4,
 "nbformat_minor": 2
}
